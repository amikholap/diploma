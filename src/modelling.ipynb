{
 "cells": [
  {
   "cell_type": "code",
   "execution_count": null,
   "metadata": {
    "collapsed": true
   },
   "outputs": [],
   "source": [
    "%matplotlib inline\n",
    "import matplotlib.pyplot as plt\n",
    "import numpy as np\n",
    "from scipy.integrate import quad"
   ]
  },
  {
   "cell_type": "code",
   "execution_count": null,
   "metadata": {
    "collapsed": false
   },
   "outputs": [],
   "source": [
    "from IPython.display import Audio, display, set_matplotlib_formats\n",
    "from IPython.html.widgets import interact\n",
    "\n",
    "set_matplotlib_formats('svg')"
   ]
  },
  {
   "cell_type": "code",
   "execution_count": null,
   "metadata": {
    "collapsed": true
   },
   "outputs": [],
   "source": [
    "def am(signal, carrier_amp, carrier_freq):\n",
    "    def modulated(t):\n",
    "        amp = carrier_amp * signal(t)\n",
    "        return amp * np.cos(carrier_freq * t)\n",
    "    return modulated"
   ]
  },
  {
   "cell_type": "code",
   "execution_count": null,
   "metadata": {
    "collapsed": true
   },
   "outputs": [],
   "source": [
    "def pm(signal, carrier_amp, carrier_freq, m):\n",
    "    def modulated(t):\n",
    "        phase = carrier_freq*t + m*signal(t)\n",
    "        return carrier_amp * np.cos(2 * np.pi * phase)\n",
    "    return modulated"
   ]
  },
  {
   "cell_type": "code",
   "execution_count": null,
   "metadata": {
    "collapsed": true
   },
   "outputs": [],
   "source": [
    "def fm(signal, carrier_amp, carrier_freq, deviation):\n",
    "    def modulated(t):\n",
    "        # pretty ineffective\n",
    "        integral = quad(signal, 0, t)[0]\n",
    "        phase = carrier_freq*t + deviation*integral\n",
    "        return carrier_amp * np.cos(2 * np.pi * phase)\n",
    "    return modulated"
   ]
  },
  {
   "cell_type": "code",
   "execution_count": null,
   "metadata": {
    "collapsed": true
   },
   "outputs": [],
   "source": [
    "def visualize_modulation(ts, signal, carrier, modulated):\n",
    "    fig, (ax1, ax2, ax3) = plt.subplots(3, 1, sharex=True)\n",
    "    ax1.plot(ts, np.vectorize(signal)(ts))\n",
    "    ax2.plot(ts, np.vectorize(carrier)(ts))\n",
    "    ax3.plot(ts, np.vectorize(modulated)(ts))\n",
    "    ax1.set_ylabel('signal')\n",
    "    ax2.set_ylabel('carrier')\n",
    "    ax3.set_ylabel('modulated')"
   ]
  },
  {
   "cell_type": "code",
   "execution_count": null,
   "metadata": {
    "collapsed": true
   },
   "outputs": [],
   "source": [
    "signal_freq = 1\n",
    "carrier_amp = 10\n",
    "carrier_freq = 20\n",
    "\n",
    "def signal(t):\n",
    "    return np.cos(2 * np.pi * signal_freq * t)\n",
    "\n",
    "def carrier(t):\n",
    "    return carrier_amp * np.cos(2 * np.pi * carrier_freq * t)"
   ]
  },
  {
   "cell_type": "code",
   "execution_count": null,
   "metadata": {
    "collapsed": false
   },
   "outputs": [],
   "source": [
    "am_modulated = am(signal, carrier_amp, carrier_freq)\n",
    "\n",
    "ts = np.linspace(0, 1, 1e4)\n",
    "visualize_modulation(ts, signal, carrier, am_modulated)"
   ]
  },
  {
   "cell_type": "code",
   "execution_count": null,
   "metadata": {
    "collapsed": false
   },
   "outputs": [],
   "source": [
    "m = np.pi / 2\n",
    "pm_modulated = pm(signal, carrier_amp, carrier_freq, m)\n",
    "\n",
    "ts = np.linspace(0, 1, 1e4)\n",
    "visualize_modulation(ts, signal, carrier, pm_modulated)"
   ]
  },
  {
   "cell_type": "code",
   "execution_count": null,
   "metadata": {
    "collapsed": false
   },
   "outputs": [],
   "source": [
    "deviation = 10\n",
    "fm_modulated = fm(signal, carrier_amp, carrier_freq, deviation)\n",
    "\n",
    "ts = np.linspace(0, 1, 1e4)\n",
    "visualize_modulation(ts, signal, carrier, fm_modulated)"
   ]
  }
 ],
 "metadata": {
  "kernelspec": {
   "display_name": "Python 2",
   "language": "python",
   "name": "python2"
  },
  "language_info": {
   "codemirror_mode": {
    "name": "ipython",
    "version": 2
   },
   "file_extension": ".py",
   "mimetype": "text/x-python",
   "name": "python",
   "nbconvert_exporter": "python",
   "pygments_lexer": "ipython2",
   "version": "2.7.6"
  }
 },
 "nbformat": 4,
 "nbformat_minor": 0
}
